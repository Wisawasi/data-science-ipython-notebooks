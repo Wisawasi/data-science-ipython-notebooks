{
  "nbformat": 4,
  "nbformat_minor": 0,
  "metadata": {
    "colab": {
      "name": "146_tutorial_numpy.ipynb",
      "provenance": [],
      "collapsed_sections": [],
      "toc_visible": true,
      "include_colab_link": true
    },
    "kernelspec": {
      "name": "python3",
      "display_name": "Python 3"
    }
  },
  "cells": [
    {
      "cell_type": "markdown",
      "metadata": {
        "id": "view-in-github",
        "colab_type": "text"
      },
      "source": [
        "<a href=\"https://colab.research.google.com/github/Wisawasi/data-science-ipython-notebooks/blob/master/146_tutorial_numpy.ipynb\" target=\"_parent\"><img src=\"https://colab.research.google.com/assets/colab-badge.svg\" alt=\"Open In Colab\"/></a>"
      ]
    },
    {
      "cell_type": "markdown",
      "metadata": {
        "id": "8y0jBwRd6go3",
        "colab_type": "text"
      },
      "source": [
        "<img height=\"45px\" src=\"https://avatars3.githubusercontent.com/u/20337240?s=460&v=4\" align=\"left\" hspace=\"10px\" vspace=\"0px\">\n",
        "\n",
        "# การใช้งานโมดูล numpy เบื้องต้น\n",
        "\n",
        "เอาไว้ใช้งานชนิดข้อมูลแบบอาร์เรย์หลายมิติ (ndarray)\n",
        "\n",
        "\n",
        "<hr>\n",
        "<a href='https://www.facebook.com/programmerthai'><font color='green'>สรุปและเรียบเรียงโดย โปรแกรมเมอร์ไทย thai programmer</font></a>"
      ]
    },
    {
      "cell_type": "markdown",
      "metadata": {
        "id": "jYZBhNs-o-y6",
        "colab_type": "text"
      },
      "source": [
        "cite\n",
        "\n",
        "https://colab.research.google.com/drive/1NQDtO3Y8kApxS5SwMPE2hvdUl3T_of4V"
      ]
    },
    {
      "cell_type": "markdown",
      "metadata": {
        "id": "rwVHkFIG6vtd",
        "colab_type": "text"
      },
      "source": [
        "# วิธีใช้งาน colab\n",
        "\n",
        "Colab พัฒนาโดย google เป็นหน้าเว็บเอาไว้ใช้เขียนโค้ด python ได้ผ่านทางหน้าเว็บ และเชื่อมต่อกับ google drive ของเราก็ได้ด้วย ซึ่ง colab หน้านี้**ได้รวบรวมเนื้อหา Python ของม.ต้น** เอาไว้ แต่ก่อนอื่นอยากให้ดูวิธีการใช้งาน colab เสียก่อน\n",
        "\n",
        "<font color='red'>** ต้องมี Gmail และ google drive</font>\n",
        "\n",
        "<hr/>\n",
        "\n",
        "<h3>วิธี 1) กด \"Open in playgrouhd\"</h3>\n",
        "<div>\n",
        "<img height=\"200px\" src=\"https://www.patanasongsivilai.com/blog/wp-content/uploads/2020/05/python_matayom_4.png\" align=\"center\" hspace=\"10px\" vspace=\"0px\">\n",
        "\n",
        "\n",
        "<hr/>\n",
        "\n",
        "<h3>วิธี 2) กด Save a copy in Drive ... เพื่อบันทึกไว้ google drive เครื่องเรา</h3>\n",
        "\n",
        "<img height=\"300px\" src=\"https://www.patanasongsivilai.com/blog/wp-content/uploads/2019/11/python_matayom_1.png\" align=\"center\" hspace=\"10px\" vspace=\"0px\">\n",
        "\n",
        "<br/>\n",
        "\n",
        "<img height=\"200px\" src=\"https://www.patanasongsivilai.com/blog/wp-content/uploads/2019/11/python_matayom_2.png\" align=\"center\" hspace=\"10px\" vspace=\"0px\">\n",
        "\n",
        "<hr/>\n",
        "\n",
        "<h3>จากนั้นถึงจะสามารถรันได้</h3>\n",
        "<img height=\"200px\" src=\"https://www.patanasongsivilai.com/blog/wp-content/uploads/2019/11/python_matayom_3.png\" align=\"center\" hspace=\"10px\" vspace=\"0px\">"
      ]
    },
    {
      "cell_type": "markdown",
      "metadata": {
        "id": "YbGlFmRxkqUn",
        "colab_type": "text"
      },
      "source": [
        "# Import package"
      ]
    },
    {
      "cell_type": "code",
      "metadata": {
        "id": "oZaJg1AEj0r6",
        "colab_type": "code",
        "colab": {}
      },
      "source": [
        "import numpy as np"
      ],
      "execution_count": null,
      "outputs": []
    },
    {
      "cell_type": "markdown",
      "metadata": {
        "id": "XAOQg2Yokzq8",
        "colab_type": "text"
      },
      "source": [
        "# สร้าง ndarray"
      ]
    },
    {
      "cell_type": "markdown",
      "metadata": {
        "id": "Ntv4qRuGlKMW",
        "colab_type": "text"
      },
      "source": [
        "**สร้างจาก List**"
      ]
    },
    {
      "cell_type": "code",
      "metadata": {
        "id": "4xZVQGVpk6lS",
        "colab_type": "code",
        "colab": {
          "base_uri": "https://localhost:8080/",
          "height": 34
        },
        "outputId": "a1c38e18-38fb-45a8-e085-f0d8666a643f"
      },
      "source": [
        "# list ปกติ\n",
        "[10, 20, 30, 40, 50]\n"
      ],
      "execution_count": null,
      "outputs": [
        {
          "output_type": "execute_result",
          "data": {
            "text/plain": [
              "[10, 20, 30, 40, 50]"
            ]
          },
          "metadata": {
            "tags": []
          },
          "execution_count": 2
        }
      ]
    },
    {
      "cell_type": "code",
      "metadata": {
        "id": "Nw4OyNyfk-gy",
        "colab_type": "code",
        "colab": {
          "base_uri": "https://localhost:8080/",
          "height": 34
        },
        "outputId": "fce325ac-50be-4d1b-f1a0-eeab6ace3dbf"
      },
      "source": [
        "# ndarray\n",
        "np.array([10, 20, 30, 40, 50])"
      ],
      "execution_count": null,
      "outputs": [
        {
          "output_type": "execute_result",
          "data": {
            "text/plain": [
              "array([10, 20, 30, 40, 50])"
            ]
          },
          "metadata": {
            "tags": []
          },
          "execution_count": 3
        }
      ]
    },
    {
      "cell_type": "code",
      "metadata": {
        "id": "QOhjsjEWlIp4",
        "colab_type": "code",
        "colab": {
          "base_uri": "https://localhost:8080/",
          "height": 34
        },
        "outputId": "b058cb62-8e26-42d4-ed23-b5cae0e2d997"
      },
      "source": [
        "type( np.array([10, 20, 30, 40, 50]) )\n"
      ],
      "execution_count": null,
      "outputs": [
        {
          "output_type": "execute_result",
          "data": {
            "text/plain": [
              "numpy.ndarray"
            ]
          },
          "metadata": {
            "tags": []
          },
          "execution_count": 4
        }
      ]
    },
    {
      "cell_type": "code",
      "metadata": {
        "id": "4vItEwWb4uvk",
        "colab_type": "code",
        "colab": {
          "base_uri": "https://localhost:8080/",
          "height": 34
        },
        "outputId": "194c08cb-ea0f-4d3a-a82c-88c0489a3377"
      },
      "source": [
        "np.array([10, 20, 30, 40, 50]).shape"
      ],
      "execution_count": null,
      "outputs": [
        {
          "output_type": "execute_result",
          "data": {
            "text/plain": [
              "(5,)"
            ]
          },
          "metadata": {
            "tags": []
          },
          "execution_count": 5
        }
      ]
    },
    {
      "cell_type": "markdown",
      "metadata": {
        "id": "EZwPTkA2lgMu",
        "colab_type": "text"
      },
      "source": [
        "**สร้างจาก List หลายมิติ**"
      ]
    },
    {
      "cell_type": "code",
      "metadata": {
        "id": "SOg6zxhtlztm",
        "colab_type": "code",
        "colab": {
          "base_uri": "https://localhost:8080/",
          "height": 34
        },
        "outputId": "1a6dd4b9-b585-4b33-b621-23db3fcb6a2a"
      },
      "source": [
        "# List ปกติ\n",
        "[[10, 20, 30], [10, 20 ,30]]"
      ],
      "execution_count": null,
      "outputs": [
        {
          "output_type": "execute_result",
          "data": {
            "text/plain": [
              "[[10, 20, 30], [10, 20, 30]]"
            ]
          },
          "metadata": {
            "tags": []
          },
          "execution_count": 6
        }
      ]
    },
    {
      "cell_type": "code",
      "metadata": {
        "id": "3zCATwJcljQm",
        "colab_type": "code",
        "colab": {
          "base_uri": "https://localhost:8080/",
          "height": 51
        },
        "outputId": "ffcd24b8-71c0-44d6-841d-9ec6080e78e2"
      },
      "source": [
        "np.array([[10, 20, 30], [40, 50 ,60]])"
      ],
      "execution_count": null,
      "outputs": [
        {
          "output_type": "execute_result",
          "data": {
            "text/plain": [
              "array([[10, 20, 30],\n",
              "       [40, 50, 60]])"
            ]
          },
          "metadata": {
            "tags": []
          },
          "execution_count": 7
        }
      ]
    },
    {
      "cell_type": "code",
      "metadata": {
        "id": "OD1WK8Mz42BJ",
        "colab_type": "code",
        "colab": {
          "base_uri": "https://localhost:8080/",
          "height": 34
        },
        "outputId": "d527f0f1-a75d-4411-c0b6-44a196d7f040"
      },
      "source": [
        "np.array([[10, 20, 30], [40, 50 ,60]]).shape"
      ],
      "execution_count": null,
      "outputs": [
        {
          "output_type": "execute_result",
          "data": {
            "text/plain": [
              "(2, 3)"
            ]
          },
          "metadata": {
            "tags": []
          },
          "execution_count": 8
        }
      ]
    },
    {
      "cell_type": "code",
      "metadata": {
        "id": "VTa1ykYPGqqy",
        "colab_type": "code",
        "colab": {
          "base_uri": "https://localhost:8080/",
          "height": 85
        },
        "outputId": "233dab4b-6f3b-4b96-8d48-b3ee2b24a7d9"
      },
      "source": [
        "x = np.array([[10, 20, 30], [40, 50 ,60], [70, 80, 90]])\n",
        "print(x)\n",
        "print(x.shape)"
      ],
      "execution_count": null,
      "outputs": [
        {
          "output_type": "stream",
          "text": [
            "[[10 20 30]\n",
            " [40 50 60]\n",
            " [70 80 90]]\n",
            "(3, 3)\n"
          ],
          "name": "stdout"
        }
      ]
    },
    {
      "cell_type": "markdown",
      "metadata": {
        "id": "95wCNXa4mAUs",
        "colab_type": "text"
      },
      "source": [
        "**สร้างจากฟังก์ชัน**"
      ]
    },
    {
      "cell_type": "code",
      "metadata": {
        "id": "VjtmylCEljb4",
        "colab_type": "code",
        "colab": {
          "base_uri": "https://localhost:8080/",
          "height": 51
        },
        "outputId": "776a0eb0-99ef-4954-abe9-fdfc08b72a0b"
      },
      "source": [
        "np.zeros((2, 3))"
      ],
      "execution_count": null,
      "outputs": [
        {
          "output_type": "execute_result",
          "data": {
            "text/plain": [
              "array([[0., 0., 0.],\n",
              "       [0., 0., 0.]])"
            ]
          },
          "metadata": {
            "tags": []
          },
          "execution_count": 10
        }
      ]
    },
    {
      "cell_type": "code",
      "metadata": {
        "id": "OA2HrNHmmVyg",
        "colab_type": "code",
        "colab": {
          "base_uri": "https://localhost:8080/",
          "height": 68
        },
        "outputId": "6b4a31b4-3db7-4d16-bec9-733ad7764cf7"
      },
      "source": [
        "np.ones((3, 2))"
      ],
      "execution_count": null,
      "outputs": [
        {
          "output_type": "execute_result",
          "data": {
            "text/plain": [
              "array([[1., 1.],\n",
              "       [1., 1.],\n",
              "       [1., 1.]])"
            ]
          },
          "metadata": {
            "tags": []
          },
          "execution_count": 11
        }
      ]
    },
    {
      "cell_type": "code",
      "metadata": {
        "id": "feSM5msGm7Mr",
        "colab_type": "code",
        "colab": {
          "base_uri": "https://localhost:8080/",
          "height": 85
        },
        "outputId": "8400c5b5-55b5-4685-f9b6-108a7ff06a68"
      },
      "source": [
        "np.full( (4,5), 3.2)"
      ],
      "execution_count": null,
      "outputs": [
        {
          "output_type": "execute_result",
          "data": {
            "text/plain": [
              "array([[3.2, 3.2, 3.2, 3.2, 3.2],\n",
              "       [3.2, 3.2, 3.2, 3.2, 3.2],\n",
              "       [3.2, 3.2, 3.2, 3.2, 3.2],\n",
              "       [3.2, 3.2, 3.2, 3.2, 3.2]])"
            ]
          },
          "metadata": {
            "tags": []
          },
          "execution_count": 12
        }
      ]
    },
    {
      "cell_type": "markdown",
      "metadata": {
        "id": "xvbASjy6n1ay",
        "colab_type": "text"
      },
      "source": [
        "**สร้างสมาชิกแบบเพิมขึ้นแบบ range**"
      ]
    },
    {
      "cell_type": "code",
      "metadata": {
        "id": "xYmqV7GFWrK2",
        "colab_type": "code",
        "colab": {
          "base_uri": "https://localhost:8080/",
          "height": 34
        },
        "outputId": "d5178469-3575-43e3-e019-ad530291c689"
      },
      "source": [
        "np.arange(5) # เริ่มตั้งแต่ 0 แต่ยังไม่ถึง 5 (เพิ่มทีละ 1 ค่า)"
      ],
      "execution_count": null,
      "outputs": [
        {
          "output_type": "execute_result",
          "data": {
            "text/plain": [
              "array([0, 1, 2, 3, 4])"
            ]
          },
          "metadata": {
            "tags": []
          },
          "execution_count": 13
        }
      ]
    },
    {
      "cell_type": "code",
      "metadata": {
        "id": "1406I0omntmH",
        "colab_type": "code",
        "colab": {
          "base_uri": "https://localhost:8080/",
          "height": 34
        },
        "outputId": "59b66ef9-4171-4098-b7dd-689fe4cb75ad"
      },
      "source": [
        "# เริ่มที่ 0 ไปที่ละ 2 ค่า แต่ยังไม่ถึง 10\n",
        "np.arange(0, 10, 2) # default เพิ่มที่ละหนึ่ง"
      ],
      "execution_count": null,
      "outputs": [
        {
          "output_type": "execute_result",
          "data": {
            "text/plain": [
              "array([0, 2, 4, 6, 8])"
            ]
          },
          "metadata": {
            "tags": []
          },
          "execution_count": 14
        }
      ]
    },
    {
      "cell_type": "code",
      "metadata": {
        "id": "8KY9gRlcnz4P",
        "colab_type": "code",
        "colab": {
          "base_uri": "https://localhost:8080/",
          "height": 34
        },
        "outputId": "2014302e-d3c6-423e-843d-652d0284504f"
      },
      "source": [
        "np.arange(5, 10) # เพิ่มทีละหนึ่ง (default) เริ่มตั้งแต่เลข 5 แต่ยังไม่ถึง 10"
      ],
      "execution_count": null,
      "outputs": [
        {
          "output_type": "execute_result",
          "data": {
            "text/plain": [
              "array([5, 6, 7, 8, 9])"
            ]
          },
          "metadata": {
            "tags": []
          },
          "execution_count": 15
        }
      ]
    },
    {
      "cell_type": "code",
      "metadata": {
        "id": "CmQ2LtbjVsc2",
        "colab_type": "code",
        "colab": {
          "base_uri": "https://localhost:8080/",
          "height": 34
        },
        "outputId": "004284e1-66e5-4a85-e2b0-e063907c6f15"
      },
      "source": [
        "# สร้างเลขระหว่าง 0 ถึง 1 โดยจะมี 4 ค่า\n",
        "np.linspace(0, 1, 4)"
      ],
      "execution_count": null,
      "outputs": [
        {
          "output_type": "execute_result",
          "data": {
            "text/plain": [
              "array([0.        , 0.33333333, 0.66666667, 1.        ])"
            ]
          },
          "metadata": {
            "tags": []
          },
          "execution_count": 16
        }
      ]
    },
    {
      "cell_type": "markdown",
      "metadata": {
        "id": "TfFIakXSJA8o",
        "colab_type": "text"
      },
      "source": [
        "**หรือจะสร้างแบบลดลงก็ได้**"
      ]
    },
    {
      "cell_type": "code",
      "metadata": {
        "id": "V8iWeSfdJDs8",
        "colab_type": "code",
        "colab": {
          "base_uri": "https://localhost:8080/",
          "height": 34
        },
        "outputId": "afa14747-f0f5-499e-c350-7ba1e2472144"
      },
      "source": [
        "np.arange(10, 0, -1) # เริ่มจาก 10 ลดไปทีละ -1 แต่ยังไม่ถึง 0"
      ],
      "execution_count": null,
      "outputs": [
        {
          "output_type": "execute_result",
          "data": {
            "text/plain": [
              "array([10,  9,  8,  7,  6,  5,  4,  3,  2,  1])"
            ]
          },
          "metadata": {
            "tags": []
          },
          "execution_count": 17
        }
      ]
    },
    {
      "cell_type": "markdown",
      "metadata": {
        "id": "ntcOhjaL5inB",
        "colab_type": "text"
      },
      "source": [
        "**สร้างสมาชิกแบบ random**"
      ]
    },
    {
      "cell_type": "code",
      "metadata": {
        "id": "8PaHleyC5k7T",
        "colab_type": "code",
        "colab": {
          "base_uri": "https://localhost:8080/",
          "height": 85
        },
        "outputId": "64874b9d-2d25-4463-d099-fe65a70d52e4"
      },
      "source": [
        "mean = 10\n",
        "stdev = 3\n",
        "number_values = 20\n",
        "np.random.normal(mean, stdev, number_values)"
      ],
      "execution_count": null,
      "outputs": [
        {
          "output_type": "execute_result",
          "data": {
            "text/plain": [
              "array([14.01446465, 11.31696399,  3.68314176, 15.45088067, 10.73019054,\n",
              "        9.91463996,  5.74890406,  6.18349831,  5.84764651, 15.00389177,\n",
              "        3.72220097,  4.25767887,  2.81945448,  9.18999147, 11.79956519,\n",
              "        5.63827975,  9.04887865,  9.96530223,  9.57361103,  8.998003  ])"
            ]
          },
          "metadata": {
            "tags": []
          },
          "execution_count": 18
        }
      ]
    },
    {
      "cell_type": "code",
      "metadata": {
        "id": "wrSwaYP9NA7c",
        "colab_type": "code",
        "colab": {
          "base_uri": "https://localhost:8080/",
          "height": 34
        },
        "outputId": "0eec7748-9583-4470-8c70-716bd7d3409f"
      },
      "source": [
        "np.random.randint(0, 10, 6)  # สุ่มค่าตั้งแต่ 0 ถึง 10 มีจำนวนสมาชิก 6 ตัว"
      ],
      "execution_count": null,
      "outputs": [
        {
          "output_type": "execute_result",
          "data": {
            "text/plain": [
              "array([9, 5, 9, 5, 3, 5])"
            ]
          },
          "metadata": {
            "tags": []
          },
          "execution_count": 19
        }
      ]
    },
    {
      "cell_type": "markdown",
      "metadata": {
        "id": "34NqT8rmA2Ry",
        "colab_type": "text"
      },
      "source": [
        "# Reshape"
      ]
    },
    {
      "cell_type": "code",
      "metadata": {
        "id": "rOyBa_i2BChL",
        "colab_type": "code",
        "colab": {
          "base_uri": "https://localhost:8080/",
          "height": 85
        },
        "outputId": "de946d7d-39ff-4c87-bbe9-84ee585b4c94"
      },
      "source": [
        "x = np.arange(6)\n",
        "print(x)\n",
        "print(\"after reshape\")\n",
        "x.reshape(2, 3)"
      ],
      "execution_count": null,
      "outputs": [
        {
          "output_type": "stream",
          "text": [
            "[0 1 2 3 4 5]\n",
            "after reshape\n"
          ],
          "name": "stdout"
        },
        {
          "output_type": "execute_result",
          "data": {
            "text/plain": [
              "array([[0, 1, 2],\n",
              "       [3, 4, 5]])"
            ]
          },
          "metadata": {
            "tags": []
          },
          "execution_count": 20
        }
      ]
    },
    {
      "cell_type": "code",
      "metadata": {
        "id": "c3WCMLVFBT_H",
        "colab_type": "code",
        "colab": {
          "base_uri": "https://localhost:8080/",
          "height": 119
        },
        "outputId": "c1f850ea-f084-4232-89c9-845dffbde736"
      },
      "source": [
        "x = np.array([[10, 20, 30], [40, 50 ,60]])\n",
        "print(x)\n",
        "print(\"after reshape\")\n",
        "x.reshape(3, 2)"
      ],
      "execution_count": null,
      "outputs": [
        {
          "output_type": "stream",
          "text": [
            "[[10 20 30]\n",
            " [40 50 60]]\n",
            "after reshape\n"
          ],
          "name": "stdout"
        },
        {
          "output_type": "execute_result",
          "data": {
            "text/plain": [
              "array([[10, 20],\n",
              "       [30, 40],\n",
              "       [50, 60]])"
            ]
          },
          "metadata": {
            "tags": []
          },
          "execution_count": 21
        }
      ]
    },
    {
      "cell_type": "code",
      "metadata": {
        "id": "aBJQvsYGJnTY",
        "colab_type": "code",
        "colab": {
          "base_uri": "https://localhost:8080/",
          "height": 136
        },
        "outputId": "c00b2cb8-6f0d-440b-f1d7-d4c323a83834"
      },
      "source": [
        "x = np.array([[10, 20] , [30, 40] , [50 ,60], [70, 80]])\n",
        "print(x)\n",
        "print(\"after reshape\")\n",
        "x.reshape(2,4)"
      ],
      "execution_count": null,
      "outputs": [
        {
          "output_type": "stream",
          "text": [
            "[[10 20]\n",
            " [30 40]\n",
            " [50 60]\n",
            " [70 80]]\n",
            "after reshape\n"
          ],
          "name": "stdout"
        },
        {
          "output_type": "execute_result",
          "data": {
            "text/plain": [
              "array([[10, 20, 30, 40],\n",
              "       [50, 60, 70, 80]])"
            ]
          },
          "metadata": {
            "tags": []
          },
          "execution_count": 22
        }
      ]
    },
    {
      "cell_type": "markdown",
      "metadata": {
        "id": "MEcAs74FBm8D",
        "colab_type": "text"
      },
      "source": [
        "# เข้าถึง index"
      ]
    },
    {
      "cell_type": "code",
      "metadata": {
        "id": "MR_IHptvBxNw",
        "colab_type": "code",
        "colab": {
          "base_uri": "https://localhost:8080/",
          "height": 68
        },
        "outputId": "575b9609-46cc-426f-d493-b2238e3c8eb1"
      },
      "source": [
        "x = np.arange(5)\n",
        "\n",
        "print(x)\n",
        "print(x[4])\n",
        "\n",
        "# อินเดกซ์เป็นลบ\n",
        "print(x[-1])"
      ],
      "execution_count": null,
      "outputs": [
        {
          "output_type": "stream",
          "text": [
            "[0 1 2 3 4]\n",
            "4\n",
            "4\n"
          ],
          "name": "stdout"
        }
      ]
    },
    {
      "cell_type": "markdown",
      "metadata": {
        "id": "2LlwTf-aEuQ6",
        "colab_type": "text"
      },
      "source": [
        "Slice"
      ]
    },
    {
      "cell_type": "code",
      "metadata": {
        "id": "LVtX-mCbEhDQ",
        "colab_type": "code",
        "colab": {
          "base_uri": "https://localhost:8080/",
          "height": 136
        },
        "outputId": "8c1c87e1-5a76-454b-a79a-da09c3a70994"
      },
      "source": [
        "x = np.arange(5)\n",
        "\n",
        "print(x[1:3])\n",
        "print(x[1:])\n",
        "print(x[:3])\n",
        "\n",
        "# อินเดกซ์เป็นลบ\n",
        "print('Index is negative')\n",
        "print(x[-4:-2])\n",
        "print(x[-4:])\n",
        "print(x[:-2])\n"
      ],
      "execution_count": null,
      "outputs": [
        {
          "output_type": "stream",
          "text": [
            "[1 2]\n",
            "[1 2 3 4]\n",
            "[0 1 2]\n",
            "Index is negative\n",
            "[1 2]\n",
            "[1 2 3 4]\n",
            "[0 1 2]\n"
          ],
          "name": "stdout"
        }
      ]
    },
    {
      "cell_type": "markdown",
      "metadata": {
        "id": "rVL8w_hjHAqq",
        "colab_type": "text"
      },
      "source": [
        "เพิ่มทีละสเตป"
      ]
    },
    {
      "cell_type": "code",
      "metadata": {
        "id": "dyjMDPwJHGJL",
        "colab_type": "code",
        "colab": {
          "base_uri": "https://localhost:8080/",
          "height": 51
        },
        "outputId": "620262e3-e6bb-450b-c5fb-53a532048b70"
      },
      "source": [
        "print(x)\n",
        "x[::2] # slice มาห่างกันทีละ 2 อินเด็กซ์"
      ],
      "execution_count": null,
      "outputs": [
        {
          "output_type": "stream",
          "text": [
            "[0 1 2 3 4]\n"
          ],
          "name": "stdout"
        },
        {
          "output_type": "execute_result",
          "data": {
            "text/plain": [
              "array([0, 2, 4])"
            ]
          },
          "metadata": {
            "tags": []
          },
          "execution_count": 25
        }
      ]
    },
    {
      "cell_type": "code",
      "metadata": {
        "id": "_zpkA6UcHQsp",
        "colab_type": "code",
        "colab": {
          "base_uri": "https://localhost:8080/",
          "height": 51
        },
        "outputId": "caeaf98e-70f7-479b-e7e8-36d3cf9e6270"
      },
      "source": [
        "print(x)\n",
        "x[0:3:2] # slice เริ่มต้นที่อินเด็กซ์ 0 ยังไม่ถึง 3 แต่เพิ่มทีละ 2 อินเด็กซ์"
      ],
      "execution_count": null,
      "outputs": [
        {
          "output_type": "stream",
          "text": [
            "[0 1 2 3 4]\n"
          ],
          "name": "stdout"
        },
        {
          "output_type": "execute_result",
          "data": {
            "text/plain": [
              "array([0, 2])"
            ]
          },
          "metadata": {
            "tags": []
          },
          "execution_count": 26
        }
      ]
    },
    {
      "cell_type": "markdown",
      "metadata": {
        "id": "FM0IrKB2Hp5m",
        "colab_type": "text"
      },
      "source": [
        "สามารถมีสเตป เป็นลบได้ ประยุกต์ revese ย้อนกลับหลังได้"
      ]
    },
    {
      "cell_type": "code",
      "metadata": {
        "id": "ADdmf7btHyCd",
        "colab_type": "code",
        "colab": {
          "base_uri": "https://localhost:8080/",
          "height": 34
        },
        "outputId": "7365a65e-97b0-4511-a3a9-55976cf6acee"
      },
      "source": [
        "x[::-1] # ขยับลดทีละ -1 อินเด็กซ์ จากหลังไปหน้า"
      ],
      "execution_count": null,
      "outputs": [
        {
          "output_type": "execute_result",
          "data": {
            "text/plain": [
              "array([4, 3, 2, 1, 0])"
            ]
          },
          "metadata": {
            "tags": []
          },
          "execution_count": 27
        }
      ]
    },
    {
      "cell_type": "code",
      "metadata": {
        "id": "E20pGl3hH6d6",
        "colab_type": "code",
        "colab": {
          "base_uri": "https://localhost:8080/",
          "height": 34
        },
        "outputId": "288c1b66-f145-4f3d-bf99-66eaacff77ff"
      },
      "source": [
        "x[::-2] # ขยับลดทีละ -2 อินเด็กซ์ จากหลังไปหน้า"
      ],
      "execution_count": null,
      "outputs": [
        {
          "output_type": "execute_result",
          "data": {
            "text/plain": [
              "array([4, 2, 0])"
            ]
          },
          "metadata": {
            "tags": []
          },
          "execution_count": 28
        }
      ]
    },
    {
      "cell_type": "code",
      "metadata": {
        "id": "nFT_vCp6H-vf",
        "colab_type": "code",
        "colab": {
          "base_uri": "https://localhost:8080/",
          "height": 34
        },
        "outputId": "6e166e3f-e83e-42eb-cb31-cf0bd45d6dbd"
      },
      "source": [
        "x[4:2:-1] # ตำแหน่งเริ่มต้นอินเด็กซ์ 4 ไล่ย้อนมายังไม่ถึงอินเดกซ์ 2 โดยลดทีละ -1"
      ],
      "execution_count": null,
      "outputs": [
        {
          "output_type": "execute_result",
          "data": {
            "text/plain": [
              "array([4, 3])"
            ]
          },
          "metadata": {
            "tags": []
          },
          "execution_count": 29
        }
      ]
    },
    {
      "cell_type": "markdown",
      "metadata": {
        "id": "ckW7M3uFdWHc",
        "colab_type": "text"
      },
      "source": [
        "ใช้ : หมายถึงเข้าถึงทั้งหมดในมิตินั้น"
      ]
    },
    {
      "cell_type": "code",
      "metadata": {
        "id": "q4BTMBTNdbbr",
        "colab_type": "code",
        "colab": {
          "base_uri": "https://localhost:8080/",
          "height": 34
        },
        "outputId": "7bc82f41-3447-4b5e-83af-eafe98cf85ff"
      },
      "source": [
        "x[:]"
      ],
      "execution_count": null,
      "outputs": [
        {
          "output_type": "stream",
          "text": [
            "[0 1 2 3 4]\n"
          ],
          "name": "stdout"
        }
      ]
    },
    {
      "cell_type": "markdown",
      "metadata": {
        "id": "_c-dkCOZd16-",
        "colab_type": "text"
      },
      "source": [
        "แก้ไขข้อมูลทั้งชุด"
      ]
    },
    {
      "cell_type": "code",
      "metadata": {
        "id": "_m25pGjRd4-h",
        "colab_type": "code",
        "colab": {
          "base_uri": "https://localhost:8080/",
          "height": 34
        },
        "outputId": "fe057fda-68d6-46af-a118-b69bb61a9979"
      },
      "source": [
        "x[:] = 255 # ห้ามเขียน x = 255\n",
        "x "
      ],
      "execution_count": null,
      "outputs": [
        {
          "output_type": "execute_result",
          "data": {
            "text/plain": [
              "array([255, 255, 255, 255, 255])"
            ]
          },
          "metadata": {
            "tags": []
          },
          "execution_count": 83
        }
      ]
    },
    {
      "cell_type": "markdown",
      "metadata": {
        "id": "_utlNvWVg4Fm",
        "colab_type": "text"
      },
      "source": [
        "หรือจะแก้ไขบางช่วง"
      ]
    },
    {
      "cell_type": "code",
      "metadata": {
        "id": "WUICK-tQg6Bq",
        "colab_type": "code",
        "colab": {
          "base_uri": "https://localhost:8080/",
          "height": 34
        },
        "outputId": "4a02c54a-b83f-4a30-eacc-d09b867a2bbe"
      },
      "source": [
        "x[2:4] = -100\n",
        "x"
      ],
      "execution_count": null,
      "outputs": [
        {
          "output_type": "execute_result",
          "data": {
            "text/plain": [
              "array([ 255,  255, -100, -100,  255])"
            ]
          },
          "metadata": {
            "tags": []
          },
          "execution_count": 85
        }
      ]
    },
    {
      "cell_type": "markdown",
      "metadata": {
        "id": "aV6rl7yACbjk",
        "colab_type": "text"
      },
      "source": [
        "# เข้าถึงแอร์เรย์หลายมิติ"
      ]
    },
    {
      "cell_type": "markdown",
      "metadata": {
        "id": "NmdhT9NHi1p1",
        "colab_type": "text"
      },
      "source": [
        "สร้างจากลิสต์"
      ]
    },
    {
      "cell_type": "code",
      "metadata": {
        "id": "DVGtw-fVi43G",
        "colab_type": "code",
        "colab": {
          "base_uri": "https://localhost:8080/",
          "height": 221
        },
        "outputId": "0e368464-bc30-48e3-866c-32ae69df3772"
      },
      "source": [
        "# 2 มิติ\n",
        "x1 = np.array([[10, 20, 30], [40, 50 ,60], [70, 80, 90]])\n",
        "print(\"shape =\", x1.shape)\n",
        "print(x1)\n",
        "\n",
        "# 3 มิติ\n",
        "x2 = np.array( [ \n",
        "                [[1, 2, 3], \n",
        "                 [4, 5 ,6], \n",
        "                 [7, 8, 9]],               \n",
        "                [[11, 12, 13], \n",
        "                 [14, 15 ,16], \n",
        "                 [17, 18, 19]]\n",
        "              ]\n",
        "             )\n",
        "\n",
        "print(\"shape = \", x2.shape)\n",
        "x2"
      ],
      "execution_count": null,
      "outputs": [
        {
          "output_type": "stream",
          "text": [
            "shape = (3, 3)\n",
            "[[10 20 30]\n",
            " [40 50 60]\n",
            " [70 80 90]]\n",
            "shape =  (2, 3, 3)\n"
          ],
          "name": "stdout"
        },
        {
          "output_type": "execute_result",
          "data": {
            "text/plain": [
              "array([[[ 1,  2,  3],\n",
              "        [ 4,  5,  6],\n",
              "        [ 7,  8,  9]],\n",
              "\n",
              "       [[11, 12, 13],\n",
              "        [14, 15, 16],\n",
              "        [17, 18, 19]]])"
            ]
          },
          "metadata": {
            "tags": []
          },
          "execution_count": 113
        }
      ]
    },
    {
      "cell_type": "markdown",
      "metadata": {
        "id": "DDQAUFo3iwg-",
        "colab_type": "text"
      },
      "source": [
        "สร้างกี่มิติก็ได้"
      ]
    },
    {
      "cell_type": "code",
      "metadata": {
        "id": "iAs2vF_IilnB",
        "colab_type": "code",
        "colab": {
          "base_uri": "https://localhost:8080/",
          "height": 544
        },
        "outputId": "404eaac9-245b-4e55-cce3-6c51b3d89457"
      },
      "source": [
        "# สร้าง 4 มิติ\n",
        "x = np.ones( (2 , 3 , 4, 5))\n",
        "print(\"shape =\", x.shape)\n",
        "x"
      ],
      "execution_count": null,
      "outputs": [
        {
          "output_type": "stream",
          "text": [
            "shape = (2, 3, 4, 5)\n"
          ],
          "name": "stdout"
        },
        {
          "output_type": "execute_result",
          "data": {
            "text/plain": [
              "array([[[[1., 1., 1., 1., 1.],\n",
              "         [1., 1., 1., 1., 1.],\n",
              "         [1., 1., 1., 1., 1.],\n",
              "         [1., 1., 1., 1., 1.]],\n",
              "\n",
              "        [[1., 1., 1., 1., 1.],\n",
              "         [1., 1., 1., 1., 1.],\n",
              "         [1., 1., 1., 1., 1.],\n",
              "         [1., 1., 1., 1., 1.]],\n",
              "\n",
              "        [[1., 1., 1., 1., 1.],\n",
              "         [1., 1., 1., 1., 1.],\n",
              "         [1., 1., 1., 1., 1.],\n",
              "         [1., 1., 1., 1., 1.]]],\n",
              "\n",
              "\n",
              "       [[[1., 1., 1., 1., 1.],\n",
              "         [1., 1., 1., 1., 1.],\n",
              "         [1., 1., 1., 1., 1.],\n",
              "         [1., 1., 1., 1., 1.]],\n",
              "\n",
              "        [[1., 1., 1., 1., 1.],\n",
              "         [1., 1., 1., 1., 1.],\n",
              "         [1., 1., 1., 1., 1.],\n",
              "         [1., 1., 1., 1., 1.]],\n",
              "\n",
              "        [[1., 1., 1., 1., 1.],\n",
              "         [1., 1., 1., 1., 1.],\n",
              "         [1., 1., 1., 1., 1.],\n",
              "         [1., 1., 1., 1., 1.]]]])"
            ]
          },
          "metadata": {
            "tags": []
          },
          "execution_count": 112
        }
      ]
    },
    {
      "cell_type": "code",
      "metadata": {
        "id": "2WA5qoIDDjPp",
        "colab_type": "code",
        "colab": {
          "base_uri": "https://localhost:8080/",
          "height": 51
        },
        "outputId": "0c7f393d-347e-4db9-b74b-df931b6dd19f"
      },
      "source": [
        "x = np.array([[10, 20, 30], [40, 50 ,60], [70, 80, 90]])\n",
        "\n",
        "# เข้าถึงเฉพาะแถวที่ 2 (อินเดกซ์เป็น 1)\n",
        "print(x[1])\n",
        "print(x[-1])"
      ],
      "execution_count": null,
      "outputs": [
        {
          "output_type": "stream",
          "text": [
            "[40 50 60]\n",
            "[70 80 90]\n"
          ],
          "name": "stdout"
        }
      ]
    },
    {
      "cell_type": "markdown",
      "metadata": {
        "id": "cqHe4LkbD_F0",
        "colab_type": "text"
      },
      "source": [
        "เข้าถึงทีละตัวในอาร์เรย์หลายมิติ"
      ]
    },
    {
      "cell_type": "code",
      "metadata": {
        "id": "jpJVQUrkB4OI",
        "colab_type": "code",
        "colab": {
          "base_uri": "https://localhost:8080/",
          "height": 136
        },
        "outputId": "ae427af3-00f3-4a39-eec9-893632dbf5b5"
      },
      "source": [
        "print(x)\n",
        "\n",
        "print(x[2][2])\n",
        "#หรือจะเขียน\n",
        "print(x[2,2])\n",
        "# เข้าถึงอินเด็กซ์เป็นลบ\n",
        "print(x[-1][-1])\n",
        "print(x[-1, -1])"
      ],
      "execution_count": null,
      "outputs": [
        {
          "output_type": "stream",
          "text": [
            "[[10 20 30]\n",
            " [40 50 60]\n",
            " [70 80 90]]\n",
            "90\n",
            "90\n",
            "90\n",
            "90\n"
          ],
          "name": "stdout"
        }
      ]
    },
    {
      "cell_type": "markdown",
      "metadata": {
        "id": "9-aoTLCPKvkH",
        "colab_type": "text"
      },
      "source": [
        "เข้าถึงอาร์เรยหลายมิติแบบ slice"
      ]
    },
    {
      "cell_type": "code",
      "metadata": {
        "id": "-GRvWFCVDHBS",
        "colab_type": "code",
        "colab": {
          "base_uri": "https://localhost:8080/",
          "height": 136
        },
        "outputId": "4086129a-da46-47df-f189-f4628d69bb2f"
      },
      "source": [
        "print(x)\n",
        "print(x[0:2, 0:2])\n",
        "\n",
        "# เข้าถึงแบบอินเด็กซ์เป็นลบ\n",
        "print(x[-2:, -2:])"
      ],
      "execution_count": null,
      "outputs": [
        {
          "output_type": "stream",
          "text": [
            "[[10 20 30]\n",
            " [40 50 60]\n",
            " [70 80 90]]\n",
            "[[10 20]\n",
            " [40 50]]\n",
            "[[50 60]\n",
            " [80 90]]\n"
          ],
          "name": "stdout"
        }
      ]
    },
    {
      "cell_type": "markdown",
      "metadata": {
        "id": "S6Yj-DENL16I",
        "colab_type": "text"
      },
      "source": [
        "หรือจะ slice ระบุสเตป"
      ]
    },
    {
      "cell_type": "code",
      "metadata": {
        "id": "Am7QOPGbL1a4",
        "colab_type": "code",
        "colab": {
          "base_uri": "https://localhost:8080/",
          "height": 102
        },
        "outputId": "768e78e2-2130-49db-866a-5cefe0a56ff8"
      },
      "source": [
        "print(x)\n",
        "print(x[::2, ::2])"
      ],
      "execution_count": null,
      "outputs": [
        {
          "output_type": "stream",
          "text": [
            "[[10 20 30]\n",
            " [40 50 60]\n",
            " [70 80 90]]\n",
            "[[10 30]\n",
            " [70 90]]\n"
          ],
          "name": "stdout"
        }
      ]
    },
    {
      "cell_type": "markdown",
      "metadata": {
        "id": "Q6ArFVhCMZY2",
        "colab_type": "text"
      },
      "source": [
        "หรือจะเข้าถึงแบบลิสต์"
      ]
    },
    {
      "cell_type": "code",
      "metadata": {
        "id": "5jit9ML0Mdkw",
        "colab_type": "code",
        "colab": {
          "base_uri": "https://localhost:8080/",
          "height": 102
        },
        "outputId": "86e6b6ea-0516-4827-92bc-cfc28f4ad8a1"
      },
      "source": [
        "print(x)\n",
        "x[:2][0:3]"
      ],
      "execution_count": null,
      "outputs": [
        {
          "output_type": "stream",
          "text": [
            "[[10 20 30]\n",
            " [40 50 60]\n",
            " [70 80 90]]\n"
          ],
          "name": "stdout"
        },
        {
          "output_type": "execute_result",
          "data": {
            "text/plain": [
              "array([[10, 20, 30],\n",
              "       [40, 50, 60]])"
            ]
          },
          "metadata": {
            "tags": []
          },
          "execution_count": 34
        }
      ]
    },
    {
      "cell_type": "markdown",
      "metadata": {
        "id": "IZzKcXuJeJvE",
        "colab_type": "text"
      },
      "source": [
        "ใช้ : เพื่อเข้าถึงทั้งมิติ"
      ]
    },
    {
      "cell_type": "code",
      "metadata": {
        "id": "SwBejpvCeMsK",
        "colab_type": "code",
        "colab": {
          "base_uri": "https://localhost:8080/",
          "height": 153
        },
        "outputId": "e929321f-0a75-4e1c-efec-50740ae833a4"
      },
      "source": [
        "x = np.array( [ \n",
        "                [[1, 2, 3], \n",
        "                 [4, 5 ,6], \n",
        "                 [7, 8, 9]],\n",
        "               \n",
        "                [[11, 12, 13], \n",
        "                 [14, 15 ,16], \n",
        "                 [17, 18, 19]]\n",
        "              ]\n",
        "             )\n",
        "\n",
        "print(\"shape = \", x.shape)\n",
        "print( x[1, : , :])\n",
        "print( x[:, 2 , :])\n",
        "print( x[:, : , 0])"
      ],
      "execution_count": null,
      "outputs": [
        {
          "output_type": "stream",
          "text": [
            "shape =  (2, 3, 3)\n",
            "[[11 12 13]\n",
            " [14 15 16]\n",
            " [17 18 19]]\n",
            "[[ 7  8  9]\n",
            " [17 18 19]]\n",
            "[[ 1  4  7]\n",
            " [11 14 17]]\n"
          ],
          "name": "stdout"
        }
      ]
    },
    {
      "cell_type": "markdown",
      "metadata": {
        "id": "AldhdO5ggcCT",
        "colab_type": "text"
      },
      "source": [
        "แก้ไขค่าทีเดียวได้"
      ]
    },
    {
      "cell_type": "code",
      "metadata": {
        "id": "oIA2g57Lhoq_",
        "colab_type": "code",
        "colab": {
          "base_uri": "https://localhost:8080/",
          "height": 136
        },
        "outputId": "d2a0e9c3-71f0-4479-df6c-dd1f06cf02dc"
      },
      "source": [
        "x[0:1, : , :] = 72\n",
        "x"
      ],
      "execution_count": null,
      "outputs": [
        {
          "output_type": "execute_result",
          "data": {
            "text/plain": [
              "array([[[ 72,  72,  72],\n",
              "        [ 72,  72,  72],\n",
              "        [ 72,  72,  72]],\n",
              "\n",
              "       [[255, 255, 255],\n",
              "        [ 14,  15,  16],\n",
              "        [ 17,  18,  19]]])"
            ]
          },
          "metadata": {
            "tags": []
          },
          "execution_count": 101
        }
      ]
    },
    {
      "cell_type": "code",
      "metadata": {
        "id": "OYd1aebagfGK",
        "colab_type": "code",
        "colab": {
          "base_uri": "https://localhost:8080/",
          "height": 136
        },
        "outputId": "72c17fdd-b86a-4867-bb0a-2df80340dd06"
      },
      "source": [
        "x[:, 0:1 , :] = 255\n",
        "x"
      ],
      "execution_count": null,
      "outputs": [
        {
          "output_type": "execute_result",
          "data": {
            "text/plain": [
              "array([[[255, 255, 255],\n",
              "        [ 72,  72,  72],\n",
              "        [ 72,  72,  72]],\n",
              "\n",
              "       [[255, 255, 255],\n",
              "        [ 14,  15,  16],\n",
              "        [ 17,  18,  19]]])"
            ]
          },
          "metadata": {
            "tags": []
          },
          "execution_count": 102
        }
      ]
    },
    {
      "cell_type": "code",
      "metadata": {
        "id": "T6v_-hEUhSgp",
        "colab_type": "code",
        "colab": {
          "base_uri": "https://localhost:8080/",
          "height": 136
        },
        "outputId": "a73662c4-b564-42da-da1e-5e11c472dc9e"
      },
      "source": [
        "x [:, :, 1:3] = -10\n",
        "x"
      ],
      "execution_count": null,
      "outputs": [
        {
          "output_type": "execute_result",
          "data": {
            "text/plain": [
              "array([[[255, -10, -10],\n",
              "        [ 72, -10, -10],\n",
              "        [ 72, -10, -10]],\n",
              "\n",
              "       [[255, -10, -10],\n",
              "        [ 14, -10, -10],\n",
              "        [ 17, -10, -10]]])"
            ]
          },
          "metadata": {
            "tags": []
          },
          "execution_count": 103
        }
      ]
    },
    {
      "cell_type": "markdown",
      "metadata": {
        "id": "HlUYJgh9iH-1",
        "colab_type": "text"
      },
      "source": [
        "หรือจะเปลี่ยนทุกค่าในที่เดียวจบ"
      ]
    },
    {
      "cell_type": "code",
      "metadata": {
        "id": "SDke53xJgv2h",
        "colab_type": "code",
        "colab": {
          "base_uri": "https://localhost:8080/",
          "height": 136
        },
        "outputId": "d784b5ee-3892-49e3-c060-818255a16c52"
      },
      "source": [
        "x[:, :, :] = -333 # ห้ามเขียน x\n",
        "x"
      ],
      "execution_count": null,
      "outputs": [
        {
          "output_type": "execute_result",
          "data": {
            "text/plain": [
              "array([[[-333, -333, -333],\n",
              "        [-333, -333, -333],\n",
              "        [-333, -333, -333]],\n",
              "\n",
              "       [[-333, -333, -333],\n",
              "        [-333, -333, -333],\n",
              "        [-333, -333, -333]]])"
            ]
          },
          "metadata": {
            "tags": []
          },
          "execution_count": 104
        }
      ]
    },
    {
      "cell_type": "markdown",
      "metadata": {
        "id": "ku5ja4ZDNqeg",
        "colab_type": "text"
      },
      "source": [
        "# เข้าถึงด้วยการระบุ index ไม่มีช่วง"
      ]
    },
    {
      "cell_type": "code",
      "metadata": {
        "id": "riUPsX9LNu0B",
        "colab_type": "code",
        "colab": {
          "base_uri": "https://localhost:8080/",
          "height": 51
        },
        "outputId": "2078e51a-e653-470b-af21-39b60c6ab85d"
      },
      "source": [
        "indices = [0, 4, 5] # ใช้ List ระบุอินเดกซ์ที่ต้องการเลืก\n",
        "x = np.array([0, 10 , 20 , 30 , 40 , 50, 60, 70 ,80, 90])\n",
        "print(x)\n",
        "print(x[indices])"
      ],
      "execution_count": null,
      "outputs": [
        {
          "output_type": "stream",
          "text": [
            "[ 0 10 20 30 40 50 60 70 80 90]\n",
            "[ 0 40 50]\n"
          ],
          "name": "stdout"
        }
      ]
    },
    {
      "cell_type": "markdown",
      "metadata": {
        "id": "yiGTpVdyOBZL",
        "colab_type": "text"
      },
      "source": [
        "ไม่ต้องเรียงลำดับก็ได้ "
      ]
    },
    {
      "cell_type": "code",
      "metadata": {
        "id": "h7zJTFqZOArm",
        "colab_type": "code",
        "colab": {
          "base_uri": "https://localhost:8080/",
          "height": 51
        },
        "outputId": "93e32807-d2ff-4ba2-869b-94b3a90c0321"
      },
      "source": [
        "indices = [0, 7, 5, 2]\n",
        "x = np.array([0, 10 , 20 , 30 , 40 , 50, 60, 70 ,80, 90])\n",
        "print(x)\n",
        "print(x[indices])\n",
        "# เสมือนเขียน print(x[[0, 7, 5, 2]])"
      ],
      "execution_count": null,
      "outputs": [
        {
          "output_type": "stream",
          "text": [
            "[ 0 10 20 30 40 50 60 70 80 90]\n",
            "[ 0 70 50 20]\n"
          ],
          "name": "stdout"
        }
      ]
    },
    {
      "cell_type": "markdown",
      "metadata": {
        "id": "yVrwFYOhTlIv",
        "colab_type": "text"
      },
      "source": [
        "นำไปประยุกต์จัดเรียงตำแหน่งใหม่"
      ]
    },
    {
      "cell_type": "code",
      "metadata": {
        "id": "yTHWrJNCTkPi",
        "colab_type": "code",
        "colab": {
          "base_uri": "https://localhost:8080/",
          "height": 51
        },
        "outputId": "42db89b7-652a-4677-e523-e6f8c1bf2aae"
      },
      "source": [
        "x = np.array([0, 10, 20, 30, 40])\n",
        "print(x)\n",
        "x[ [1, 4, 3, 0, 2]]"
      ],
      "execution_count": null,
      "outputs": [
        {
          "output_type": "stream",
          "text": [
            "[ 0 10 20 30 40]\n"
          ],
          "name": "stdout"
        },
        {
          "output_type": "execute_result",
          "data": {
            "text/plain": [
              "array([10, 40, 30,  0, 20])"
            ]
          },
          "metadata": {
            "tags": []
          },
          "execution_count": 37
        }
      ]
    },
    {
      "cell_type": "markdown",
      "metadata": {
        "id": "YDtmtnyWVxFn",
        "colab_type": "text"
      },
      "source": [
        "ระบุอินเด็กซ์ติดลบก็ได้ด้วย"
      ]
    },
    {
      "cell_type": "code",
      "metadata": {
        "id": "rqr4OCOiULJo",
        "colab_type": "code",
        "colab": {
          "base_uri": "https://localhost:8080/",
          "height": 51
        },
        "outputId": "3200e136-7cd1-4618-8d96-a6893eb335a4"
      },
      "source": [
        "indices = [0, -2, -1]\n",
        "x = np.array([0, 10, 20, 30, 40])\n",
        "print(x)\n",
        "print(x[indices])"
      ],
      "execution_count": null,
      "outputs": [
        {
          "output_type": "stream",
          "text": [
            "[ 0 10 20 30 40]\n",
            "[ 0 30 40]\n"
          ],
          "name": "stdout"
        }
      ]
    },
    {
      "cell_type": "markdown",
      "metadata": {
        "id": "6s6mtc9QPwwU",
        "colab_type": "text"
      },
      "source": [
        "ระบุอินเด็กซ์โดยใช้ ndarray ก็ได้"
      ]
    },
    {
      "cell_type": "code",
      "metadata": {
        "id": "aPumjeExPgpo",
        "colab_type": "code",
        "colab": {
          "base_uri": "https://localhost:8080/",
          "height": 51
        },
        "outputId": "9a302a9e-9338-402d-cba4-e7feab639e92"
      },
      "source": [
        "indices = np.array([0, 7, 5, 2])\n",
        "x = np.arange(10)\n",
        "print(x)\n",
        "print(x[indices])"
      ],
      "execution_count": null,
      "outputs": [
        {
          "output_type": "stream",
          "text": [
            "[0 1 2 3 4 5 6 7 8 9]\n",
            "[0 7 5 2]\n"
          ],
          "name": "stdout"
        }
      ]
    },
    {
      "cell_type": "markdown",
      "metadata": {
        "id": "QHW69W8hPRHB",
        "colab_type": "text"
      },
      "source": [
        "ระบุเป็น Boolean ก็ได้"
      ]
    },
    {
      "cell_type": "code",
      "metadata": {
        "id": "kh-qSIRQOohp",
        "colab_type": "code",
        "colab": {
          "base_uri": "https://localhost:8080/",
          "height": 51
        },
        "outputId": "e6a22943-efac-4014-d456-a22ef0ab7f87"
      },
      "source": [
        "x = np.arange(5)\n",
        "print(x)\n",
        "print(x[[True, False, False, True, True]]) # เลือกสามาชิกที่ตำแหน่งตรง True"
      ],
      "execution_count": null,
      "outputs": [
        {
          "output_type": "stream",
          "text": [
            "[0 1 2 3 4]\n",
            "[0 3 4]\n"
          ],
          "name": "stdout"
        }
      ]
    },
    {
      "cell_type": "markdown",
      "metadata": {
        "id": "uvA_ivvgSVmI",
        "colab_type": "text"
      },
      "source": [
        "หาอินเด็กซ์ที่ต้องการ"
      ]
    },
    {
      "cell_type": "code",
      "metadata": {
        "id": "Zzq8hDoOSKJo",
        "colab_type": "code",
        "colab": {
          "base_uri": "https://localhost:8080/",
          "height": 51
        },
        "outputId": "b7f797c4-eb01-4e4b-cdaf-b18231c7e82b"
      },
      "source": [
        "x = np.array([0, 10, 20 ,30 ,40 ,50, 60, 70 ,80, 90])\n",
        "print(x)\n",
        "np.where(x>50)"
      ],
      "execution_count": null,
      "outputs": [
        {
          "output_type": "stream",
          "text": [
            "[ 0 10 20 30 40 50 60 70 80 90]\n"
          ],
          "name": "stdout"
        },
        {
          "output_type": "execute_result",
          "data": {
            "text/plain": [
              "(array([6, 7, 8, 9]),)"
            ]
          },
          "metadata": {
            "tags": []
          },
          "execution_count": 41
        }
      ]
    },
    {
      "cell_type": "code",
      "metadata": {
        "id": "MpprxMTWTE0N",
        "colab_type": "code",
        "colab": {
          "base_uri": "https://localhost:8080/",
          "height": 51
        },
        "outputId": "27e1d6fa-23a0-4eda-d234-f45e1b268f58"
      },
      "source": [
        "indices = np.random.permutation(20) # แรนดอม อินเดกซ์\n",
        "indices"
      ],
      "execution_count": null,
      "outputs": [
        {
          "output_type": "execute_result",
          "data": {
            "text/plain": [
              "array([11,  0,  9,  2,  1, 10,  8,  4, 18, 13, 14,  6,  7, 19, 12, 17, 15,\n",
              "        5, 16,  3])"
            ]
          },
          "metadata": {
            "tags": []
          },
          "execution_count": 42
        }
      ]
    },
    {
      "cell_type": "markdown",
      "metadata": {
        "id": "srRgH4LNQPeI",
        "colab_type": "text"
      },
      "source": [
        "# เปรียบเทียบ"
      ]
    },
    {
      "cell_type": "code",
      "metadata": {
        "id": "DGFAFt_vQkG0",
        "colab_type": "code",
        "colab": {
          "base_uri": "https://localhost:8080/",
          "height": 51
        },
        "outputId": "70cb87cb-fe38-442f-8bdd-c6001eb4ca15"
      },
      "source": [
        "x = np.arange(10)\n",
        "print(x > 5) # นำสมาชิกทุกตัวมาเปรียบเทียบ ได้เป็นอาร์เรย์ของ boolean\n",
        "print(x !=7) # นำสมาชิกทุกตัวมาเปรียบเทียบ ได้เป็นอาร์เรย์ของ boolean"
      ],
      "execution_count": null,
      "outputs": [
        {
          "output_type": "stream",
          "text": [
            "[False False False False False False  True  True  True  True]\n",
            "[ True  True  True  True  True  True  True False  True  True]\n"
          ],
          "name": "stdout"
        }
      ]
    },
    {
      "cell_type": "code",
      "metadata": {
        "id": "MgFShXlRRQdy",
        "colab_type": "code",
        "colab": {
          "base_uri": "https://localhost:8080/",
          "height": 51
        },
        "outputId": "e40576ea-0053-448c-c199-e2b61e313eec"
      },
      "source": [
        "x = np.arange(10)\n",
        "(x>5) & (x !=7)"
      ],
      "execution_count": null,
      "outputs": [
        {
          "output_type": "execute_result",
          "data": {
            "text/plain": [
              "array([False, False, False, False, False, False,  True, False,  True,\n",
              "        True])"
            ]
          },
          "metadata": {
            "tags": []
          },
          "execution_count": 44
        }
      ]
    },
    {
      "cell_type": "markdown",
      "metadata": {
        "id": "g0T1QUhcRht_",
        "colab_type": "text"
      },
      "source": [
        "ประยุกต์เลือกสมาชิกในอาร์เรย์"
      ]
    },
    {
      "cell_type": "code",
      "metadata": {
        "id": "ET22DXioRoEU",
        "colab_type": "code",
        "colab": {
          "base_uri": "https://localhost:8080/",
          "height": 68
        },
        "outputId": "2c161a8e-a705-4ec8-82e3-aa61b6786777"
      },
      "source": [
        "x = np.arange(10)\n",
        "print(x)\n",
        "print(x>5)\n",
        "x[x>5]"
      ],
      "execution_count": null,
      "outputs": [
        {
          "output_type": "stream",
          "text": [
            "[0 1 2 3 4 5 6 7 8 9]\n",
            "[False False False False False False  True  True  True  True]\n"
          ],
          "name": "stdout"
        },
        {
          "output_type": "execute_result",
          "data": {
            "text/plain": [
              "array([6, 7, 8, 9])"
            ]
          },
          "metadata": {
            "tags": []
          },
          "execution_count": 45
        }
      ]
    },
    {
      "cell_type": "code",
      "metadata": {
        "id": "DjJ9L4JlRxqx",
        "colab_type": "code",
        "colab": {
          "base_uri": "https://localhost:8080/",
          "height": 68
        },
        "outputId": "74ca0d7d-db82-49c9-acfd-906c5be51f60"
      },
      "source": [
        "x = np.arange(10)\n",
        "print(x)\n",
        "print((x>5) & (x!=7))\n",
        "x[(x>5) & (x!=7)]"
      ],
      "execution_count": null,
      "outputs": [
        {
          "output_type": "stream",
          "text": [
            "[0 1 2 3 4 5 6 7 8 9]\n",
            "[False False False False False False  True False  True  True]\n"
          ],
          "name": "stdout"
        },
        {
          "output_type": "execute_result",
          "data": {
            "text/plain": [
              "array([6, 8, 9])"
            ]
          },
          "metadata": {
            "tags": []
          },
          "execution_count": 46
        }
      ]
    },
    {
      "cell_type": "markdown",
      "metadata": {
        "id": "YcPHndASV3Lp",
        "colab_type": "text"
      },
      "source": [
        "# ดำเนินการทางคณิตศาสตร์"
      ]
    },
    {
      "cell_type": "markdown",
      "metadata": {
        "id": "ziWDBcKxXtoG",
        "colab_type": "text"
      },
      "source": [
        "อาร์เรย์ กับ scalar"
      ]
    },
    {
      "cell_type": "code",
      "metadata": {
        "id": "WQ3HpO3hV_km",
        "colab_type": "code",
        "colab": {
          "base_uri": "https://localhost:8080/",
          "height": 51
        },
        "outputId": "0a853724-ba9d-47e7-a2e0-94b8e6f972dd"
      },
      "source": [
        "x = np.arange(5)\n",
        "print(x)\n",
        "-10*x\n"
      ],
      "execution_count": null,
      "outputs": [
        {
          "output_type": "stream",
          "text": [
            "[0 1 2 3 4]\n"
          ],
          "name": "stdout"
        },
        {
          "output_type": "execute_result",
          "data": {
            "text/plain": [
              "array([  0, -10, -20, -30, -40])"
            ]
          },
          "metadata": {
            "tags": []
          },
          "execution_count": 47
        }
      ]
    },
    {
      "cell_type": "code",
      "metadata": {
        "id": "N9T8LEq7XlH3",
        "colab_type": "code",
        "colab": {
          "base_uri": "https://localhost:8080/",
          "height": 51
        },
        "outputId": "83b9efc1-ee05-4be5-8a39-2fd937e7cc77"
      },
      "source": [
        "x = np.array([2, 3, 5, 7, 9])\n",
        "print(x)\n",
        "x + 10"
      ],
      "execution_count": null,
      "outputs": [
        {
          "output_type": "stream",
          "text": [
            "[2 3 5 7 9]\n"
          ],
          "name": "stdout"
        },
        {
          "output_type": "execute_result",
          "data": {
            "text/plain": [
              "array([12, 13, 15, 17, 19])"
            ]
          },
          "metadata": {
            "tags": []
          },
          "execution_count": 48
        }
      ]
    },
    {
      "cell_type": "markdown",
      "metadata": {
        "id": "Rn3RewiFXx9r",
        "colab_type": "text"
      },
      "source": [
        "อาร์เรย์ กับ อาร์เรย์"
      ]
    },
    {
      "cell_type": "code",
      "metadata": {
        "id": "_-Vyv9qnWPM4",
        "colab_type": "code",
        "colab": {
          "base_uri": "https://localhost:8080/",
          "height": 68
        },
        "outputId": "eeaaf1a9-1733-41c9-c974-7dca3ac65cc5"
      },
      "source": [
        "a = np.arange(5)\n",
        "b = np.arange(5,10)\n",
        "print(a)\n",
        "print(b)\n",
        "a + b"
      ],
      "execution_count": null,
      "outputs": [
        {
          "output_type": "stream",
          "text": [
            "[0 1 2 3 4]\n",
            "[5 6 7 8 9]\n"
          ],
          "name": "stdout"
        },
        {
          "output_type": "execute_result",
          "data": {
            "text/plain": [
              "array([ 5,  7,  9, 11, 13])"
            ]
          },
          "metadata": {
            "tags": []
          },
          "execution_count": 49
        }
      ]
    },
    {
      "cell_type": "code",
      "metadata": {
        "id": "Z7KavR-5W_H7",
        "colab_type": "code",
        "colab": {
          "base_uri": "https://localhost:8080/",
          "height": 34
        },
        "outputId": "49232b53-7261-4204-892c-3eeb6d858e22"
      },
      "source": [
        "a = np.arange(5)\n",
        "b = np.arange(5,10)\n",
        "\n",
        "a**2 / b*10"
      ],
      "execution_count": null,
      "outputs": [
        {
          "output_type": "execute_result",
          "data": {
            "text/plain": [
              "array([ 0.        ,  1.66666667,  5.71428571, 11.25      , 17.77777778])"
            ]
          },
          "metadata": {
            "tags": []
          },
          "execution_count": 50
        }
      ]
    },
    {
      "cell_type": "markdown",
      "metadata": {
        "id": "YAn64-QzYZxA",
        "colab_type": "text"
      },
      "source": [
        "สามารถกระทำหลายมิติก็ได้ด้วย"
      ]
    },
    {
      "cell_type": "code",
      "metadata": {
        "id": "UpuHz9fyXLaX",
        "colab_type": "code",
        "colab": {
          "base_uri": "https://localhost:8080/",
          "height": 119
        },
        "outputId": "4c52af28-23bb-4264-e624-f6e83e236233"
      },
      "source": [
        "a = np.ones( (2,3) )\n",
        "b = np.full( (2,3), 10)\n",
        "\n",
        "print(a)\n",
        "print(b)\n",
        "a/4 + 3* b"
      ],
      "execution_count": null,
      "outputs": [
        {
          "output_type": "stream",
          "text": [
            "[[1. 1. 1.]\n",
            " [1. 1. 1.]]\n",
            "[[10 10 10]\n",
            " [10 10 10]]\n"
          ],
          "name": "stdout"
        },
        {
          "output_type": "execute_result",
          "data": {
            "text/plain": [
              "array([[30.25, 30.25, 30.25],\n",
              "       [30.25, 30.25, 30.25]])"
            ]
          },
          "metadata": {
            "tags": []
          },
          "execution_count": 51
        }
      ]
    },
    {
      "cell_type": "markdown",
      "metadata": {
        "id": "s6c7yKCaXMLL",
        "colab_type": "text"
      },
      "source": [
        "# ตัวอย่างเมธอด"
      ]
    },
    {
      "cell_type": "code",
      "metadata": {
        "id": "CgobdSaHYj_q",
        "colab_type": "code",
        "colab": {
          "base_uri": "https://localhost:8080/",
          "height": 102
        },
        "outputId": "6f5260ab-d214-44ae-f412-45b971f6c9e9"
      },
      "source": [
        "x = np.array([[10, 20] , [30, 40] , [50 ,60], [70, 80]])\n",
        "print(x)\n",
        "\n",
        "x.min()"
      ],
      "execution_count": null,
      "outputs": [
        {
          "output_type": "stream",
          "text": [
            "[[10 20]\n",
            " [30 40]\n",
            " [50 60]\n",
            " [70 80]]\n"
          ],
          "name": "stdout"
        },
        {
          "output_type": "execute_result",
          "data": {
            "text/plain": [
              "10"
            ]
          },
          "metadata": {
            "tags": []
          },
          "execution_count": 52
        }
      ]
    },
    {
      "cell_type": "code",
      "metadata": {
        "id": "nM4JvTSQYmxu",
        "colab_type": "code",
        "colab": {
          "base_uri": "https://localhost:8080/",
          "height": 34
        },
        "outputId": "fcfe7e11-b1ee-444e-c516-c2c6519b5b9b"
      },
      "source": [
        "x.max()"
      ],
      "execution_count": null,
      "outputs": [
        {
          "output_type": "execute_result",
          "data": {
            "text/plain": [
              "80"
            ]
          },
          "metadata": {
            "tags": []
          },
          "execution_count": 53
        }
      ]
    },
    {
      "cell_type": "code",
      "metadata": {
        "id": "DbYsN_RiYomV",
        "colab_type": "code",
        "colab": {
          "base_uri": "https://localhost:8080/",
          "height": 34
        },
        "outputId": "a59ec839-4b16-4450-8b6d-abc80d2fd006"
      },
      "source": [
        "x.cumsum()"
      ],
      "execution_count": null,
      "outputs": [
        {
          "output_type": "execute_result",
          "data": {
            "text/plain": [
              "array([ 10,  30,  60, 100, 150, 210, 280, 360])"
            ]
          },
          "metadata": {
            "tags": []
          },
          "execution_count": 54
        }
      ]
    },
    {
      "cell_type": "code",
      "metadata": {
        "id": "w41SZX_vZN9y",
        "colab_type": "code",
        "colab": {
          "base_uri": "https://localhost:8080/",
          "height": 51
        },
        "outputId": "4d838fc2-f307-48f8-c2fd-e872732aceab"
      },
      "source": [
        "x.cumprod()"
      ],
      "execution_count": null,
      "outputs": [
        {
          "output_type": "execute_result",
          "data": {
            "text/plain": [
              "array([           10,           200,          6000,        240000,\n",
              "            12000000,     720000000,   50400000000, 4032000000000])"
            ]
          },
          "metadata": {
            "tags": []
          },
          "execution_count": 55
        }
      ]
    },
    {
      "cell_type": "markdown",
      "metadata": {
        "id": "9DHbIhAhY5J7",
        "colab_type": "text"
      },
      "source": [
        "# มีฟังก์ชันใช้งานกับ list ได้"
      ]
    },
    {
      "cell_type": "code",
      "metadata": {
        "id": "tBap94BIY93G",
        "colab_type": "code",
        "colab": {
          "base_uri": "https://localhost:8080/",
          "height": 34
        },
        "outputId": "77cf2f64-28e4-4164-ed92-92ad79a85d3e"
      },
      "source": [
        "x = [[10, 20] , [30, 40] , [50 ,60], [70, 80]]\n",
        "np.shape(x)"
      ],
      "execution_count": null,
      "outputs": [
        {
          "output_type": "execute_result",
          "data": {
            "text/plain": [
              "(4, 2)"
            ]
          },
          "metadata": {
            "tags": []
          },
          "execution_count": 56
        }
      ]
    },
    {
      "cell_type": "code",
      "metadata": {
        "id": "GTYFrzXiZEAz",
        "colab_type": "code",
        "colab": {
          "base_uri": "https://localhost:8080/",
          "height": 34
        },
        "outputId": "9386796f-658a-4637-9dce-8b2de79672a2"
      },
      "source": [
        "np.min(x)"
      ],
      "execution_count": null,
      "outputs": [
        {
          "output_type": "execute_result",
          "data": {
            "text/plain": [
              "10"
            ]
          },
          "metadata": {
            "tags": []
          },
          "execution_count": 57
        }
      ]
    },
    {
      "cell_type": "code",
      "metadata": {
        "id": "y-W6I3NiZGNt",
        "colab_type": "code",
        "colab": {
          "base_uri": "https://localhost:8080/",
          "height": 34
        },
        "outputId": "55d2ceb0-65e6-47bc-b268-562687cd1b2d"
      },
      "source": [
        "np.max(x)"
      ],
      "execution_count": null,
      "outputs": [
        {
          "output_type": "execute_result",
          "data": {
            "text/plain": [
              "80"
            ]
          },
          "metadata": {
            "tags": []
          },
          "execution_count": 58
        }
      ]
    },
    {
      "cell_type": "code",
      "metadata": {
        "id": "8kSQi2G-ZIOc",
        "colab_type": "code",
        "colab": {
          "base_uri": "https://localhost:8080/",
          "height": 34
        },
        "outputId": "9ab43a6f-737f-44bb-9509-c8f2e4e04dca"
      },
      "source": [
        "np.cumsum(x)"
      ],
      "execution_count": null,
      "outputs": [
        {
          "output_type": "execute_result",
          "data": {
            "text/plain": [
              "array([ 10,  30,  60, 100, 150, 210, 280, 360])"
            ]
          },
          "metadata": {
            "tags": []
          },
          "execution_count": 59
        }
      ]
    },
    {
      "cell_type": "code",
      "metadata": {
        "id": "-B482dQHZWdY",
        "colab_type": "code",
        "colab": {
          "base_uri": "https://localhost:8080/",
          "height": 51
        },
        "outputId": "f4cb122f-aaeb-4e57-e2d2-3e0ad9e68269"
      },
      "source": [
        "np.cumprod(x)"
      ],
      "execution_count": null,
      "outputs": [
        {
          "output_type": "execute_result",
          "data": {
            "text/plain": [
              "array([           10,           200,          6000,        240000,\n",
              "            12000000,     720000000,   50400000000, 4032000000000])"
            ]
          },
          "metadata": {
            "tags": []
          },
          "execution_count": 60
        }
      ]
    },
    {
      "cell_type": "markdown",
      "metadata": {
        "id": "Y6ribFEe7bbE",
        "colab_type": "text"
      },
      "source": [
        "# ฝากติดตาม\n",
        "\n",
        "<img height=\"20px\" src=\"https://www.patanasongsivilai.com/blog/wp-content/uploads/2017/06/logo_facebook2.png\" align=\"left\" hspace=\"10px\" vspace=\"0px\">  https://www.facebook.com/programmerthai/\n",
        "\n",
        "<img height=\"14px\" src=\"https://www.patanasongsivilai.com/blog/wp-content/uploads/2019/03/youtube.png\" align=\"left\" hspace=\"10px\" vspace=\"3px\">  https://www.youtube.com/channel/UCvhCKtG5cRE6K5--RJPql_w\n",
        "\n",
        "<img height=\"14px\" src=\"https://www.patanasongsivilai.com/blog/wp-content/uploads/2019/09/github-2.jpg\" align=\"left\" hspace=\"10px\" vspace=\"3px\">https://github.com/adminho/machine-learning"
      ]
    },
    {
      "cell_type": "code",
      "metadata": {
        "id": "UNHgT-oI7hHx",
        "colab_type": "code",
        "cellView": "form",
        "colab": {
          "base_uri": "https://localhost:8080/",
          "height": 609
        },
        "outputId": "4136687d-7da5-4589-9bef-c977291ca6b8"
      },
      "source": [
        "#@title ฝากประชาสัมพันธ์ หนังสือ AI (ปัญญาประดิษฐ์) ไม่ยาก เรียนรู้ได้ด้วยเลขม. ปลาย ราคา 295 บาท\n",
        "%%HTML\n",
        "<iframe src=\"https://www.facebook.com/plugins/post.php?href=https%3A%2F%2Fwww.facebook.com%2Fprogrammerthai%2Fphotos%2Fa.2410667485889755%2F2555677101388792%2F%3Ftype%3D3&width=500\" width=\"500\" height=\"588\" style=\"border:none;overflow:hidden\" scrolling=\"no\" frameborder=\"0\" allowTransparency=\"true\" allow=\"encrypted-media\"></iframe>"
      ],
      "execution_count": null,
      "outputs": [
        {
          "output_type": "display_data",
          "data": {
            "text/html": [
              "<iframe src=\"https://www.facebook.com/plugins/post.php?href=https%3A%2F%2Fwww.facebook.com%2Fprogrammerthai%2Fphotos%2Fa.2410667485889755%2F2555677101388792%2F%3Ftype%3D3&width=500\" width=\"500\" height=\"588\" style=\"border:none;overflow:hidden\" scrolling=\"no\" frameborder=\"0\" allowTransparency=\"true\" allow=\"encrypted-media\"></iframe>"
            ],
            "text/plain": [
              "<IPython.core.display.HTML object>"
            ]
          },
          "metadata": {
            "tags": []
          }
        }
      ]
    }
  ]
}